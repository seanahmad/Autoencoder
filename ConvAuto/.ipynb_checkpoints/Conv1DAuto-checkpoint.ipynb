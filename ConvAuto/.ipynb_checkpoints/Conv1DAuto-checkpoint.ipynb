{
 "cells": [
  {
   "cell_type": "code",
   "execution_count": 1,
   "metadata": {},
   "outputs": [],
   "source": [
    "import os\n",
    "import glob\n",
    "import numpy as np\n",
    "import pandas as pd\n",
    "from sklearn.preprocessing import StandardScaler\n",
    "\n",
    "%matplotlib inline\n",
    "import matplotlib.pyplot as plt\n",
    "\n",
    "np.random.seed(42)"
   ]
  },
  {
   "cell_type": "code",
   "execution_count": 2,
   "metadata": {},
   "outputs": [
    {
     "name": "stderr",
     "output_type": "stream",
     "text": [
      "Using TensorFlow backend.\n"
     ]
    }
   ],
   "source": [
    "import tensorflow as tf\n",
    "tf.random.set_seed(42)\n",
    "\n",
    "from tensorflow.keras.layers import Input\n",
    "from tensorflow.keras.layers import Conv1D\n",
    "from tensorflow.keras.layers import LocallyConnected1D\n",
    "from tensorflow.keras.layers import Dense\n",
    "from tensorflow.keras.layers import UpSampling1D\n",
    "from tensorflow.keras.layers import Dropout\n",
    "from tensorflow.keras.layers import MaxPooling1D\n",
    "from tensorflow.keras.layers import BatchNormalization\n",
    "\n",
    "from tensorflow.keras.models import Sequential\n",
    "from tensorflow.keras.models import Model\n",
    "from tensorflow.keras.models import clone_model\n",
    "\n",
    "from tensorflow.keras.callbacks import ModelCheckpoint\n",
    "from tensorflow.keras.callbacks import EarlyStopping\n",
    "from tensorflow.keras.optimizers import Adam\n",
    "\n",
    "from keras.utils import plot_model"
   ]
  },
  {
   "cell_type": "code",
   "execution_count": 3,
   "metadata": {},
   "outputs": [],
   "source": [
    "timesteps = 1440\n",
    "input_dim = 1\n",
    "n_epochs = 100\n",
    "batch_size = 32\n",
    "drop_rate = 0.8\n",
    "n_samples = 6000"
   ]
  },
  {
   "cell_type": "code",
   "execution_count": 4,
   "metadata": {},
   "outputs": [],
   "source": [
    "# load real-world time series trading data\n",
    "def load_data(symbol):\n",
    "    \n",
    "    ROOT = os.path.join(os.getcwd(), 'datasets')\n",
    "    allfiles = glob.glob(os.path.join(ROOT, symbol, '*.csv'))\n",
    "    n_samples = np.size(allfiles)\n",
    "    \n",
    "    data = np.zeros((n_samples, timesteps, input_dim))\n",
    "    for i, file in enumerate(allfiles):\n",
    "        df = pd.read_csv(file, usecols=[4])\n",
    "        if df.values.shape[0] != timesteps:\n",
    "            print(file)\n",
    "            print(i + ' missing rows')\n",
    "        else:\n",
    "            data[i] = df.values\n",
    "    \n",
    "    return data"
   ]
  },
  {
   "cell_type": "code",
   "execution_count": 5,
   "metadata": {},
   "outputs": [],
   "source": [
    "symbol_list = ['kiwi']\n",
    "# symbol_list = ['apple', 'banana', 'cherry', 'grape', 'kiwi', 'orange']\n",
    "data_dict = {}\n",
    "\n",
    "for symbol in symbol_list:\n",
    "    data_dict[symbol] = load_data(symbol)"
   ]
  },
  {
   "cell_type": "code",
   "execution_count": 6,
   "metadata": {},
   "outputs": [],
   "source": [
    "def train_test_split(data):\n",
    "    # training set is 0.8 of the total\n",
    "    test_split = int(data.shape[0]*0.8)\n",
    "    X_train_full = data[:test_split]\n",
    "    X_test = data[test_split:]\n",
    "    # validation set is 0.1 of the training\n",
    "    valid_split = int(test_split*0.9)\n",
    "    X_train = X_train_full[:valid_split]\n",
    "    X_valid = X_train_full[valid_split:]\n",
    "    \n",
    "    return X_train, X_test, X_valid"
   ]
  },
  {
   "cell_type": "code",
   "execution_count": 7,
   "metadata": {},
   "outputs": [],
   "source": [
    "RawData = data_dict['kiwi'].copy()\n",
    "\n",
    "X_train, X_test, X_valid = train_test_split(RawData)"
   ]
  },
  {
   "cell_type": "code",
   "execution_count": 8,
   "metadata": {},
   "outputs": [],
   "source": [
    "def preprocess(data):\n",
    "    for i in range(data.shape[0]):\n",
    "        scaler = StandardScaler()\n",
    "        data[i] = scaler.fit_transform(data[i])\n",
    "        \n",
    "    return data"
   ]
  },
  {
   "cell_type": "code",
   "execution_count": 9,
   "metadata": {},
   "outputs": [],
   "source": [
    "X_train = preprocess(X_train)\n",
    "X_test = preprocess(X_test)\n",
    "X_valid = preprocess(X_valid)"
   ]
  },
  {
   "cell_type": "code",
   "execution_count": 10,
   "metadata": {
    "scrolled": true
   },
   "outputs": [
    {
     "name": "stdout",
     "output_type": "stream",
     "text": [
      "(0, 1440, 1)\n",
      "(0, 1440, 1)\n",
      "(0, 1440, 1)\n"
     ]
    }
   ],
   "source": [
    "print(X_train.shape)\n",
    "print(X_test.shape)\n",
    "print(X_valid.shape)"
   ]
  },
  {
   "cell_type": "code",
   "execution_count": 11,
   "metadata": {},
   "outputs": [
    {
     "ename": "IndexError",
     "evalue": "index 100 is out of bounds for axis 0 with size 0",
     "output_type": "error",
     "traceback": [
      "\u001b[1;31m---------------------------------------------------------------------------\u001b[0m",
      "\u001b[1;31mIndexError\u001b[0m                                Traceback (most recent call last)",
      "\u001b[1;32m<ipython-input-11-7f3f6d70ab31>\u001b[0m in \u001b[0;36m<module>\u001b[1;34m\u001b[0m\n\u001b[1;32m----> 1\u001b[1;33m \u001b[0mplt\u001b[0m\u001b[1;33m.\u001b[0m\u001b[0mplot\u001b[0m\u001b[1;33m(\u001b[0m\u001b[0mX_train\u001b[0m\u001b[1;33m[\u001b[0m\u001b[1;36m100\u001b[0m\u001b[1;33m]\u001b[0m\u001b[1;33m)\u001b[0m\u001b[1;33m\u001b[0m\u001b[1;33m\u001b[0m\u001b[0m\n\u001b[0m",
      "\u001b[1;31mIndexError\u001b[0m: index 100 is out of bounds for axis 0 with size 0"
     ]
    }
   ],
   "source": [
    "plt.plot(X_train[100])"
   ]
  },
  {
   "cell_type": "code",
   "execution_count": null,
   "metadata": {},
   "outputs": [],
   "source": []
  },
  {
   "cell_type": "code",
   "execution_count": null,
   "metadata": {},
   "outputs": [],
   "source": [
    "# Convolutional Autoencoder"
   ]
  },
  {
   "cell_type": "code",
   "execution_count": null,
   "metadata": {},
   "outputs": [],
   "source": [
    "# input sequence\n",
    "input_seq = Input(shape=(timesteps, input_dim))\n",
    "\n",
    "# encoder with Conv1D and MaxPooling1D\n",
    "X = Conv1D(filters=4, kernel_size=3, strides=1, padding='causal', activation='relu')(input_seq)\n",
    "X = BatchNormalization()(X)\n",
    "X = MaxPooling1D(6, padding='valid')(X)\n",
    "\n",
    "X = Conv1D(filters=8, kernel_size=3, strides=1, padding='causal', activation='relu')(X)\n",
    "X = BatchNormalization()(X)\n",
    "X = MaxPooling1D(6, padding='valid')(X)\n",
    "\n",
    "X = Conv1D(filters=16, kernel_size=3, strides=1, padding='causal', activation='relu')(X)\n",
    "X = BatchNormalization()(X)\n",
    "encoded = MaxPooling1D(4, padding='valid')(X)"
   ]
  },
  {
   "cell_type": "code",
   "execution_count": null,
   "metadata": {},
   "outputs": [],
   "source": [
    "# decoder with Conv1D and UpSampling1D\n",
    "X = Conv1D(filters=16, kernel_size=3, strides=1, padding='causal', activation='relu')(encoded)\n",
    "X = BatchNormalization()(X)\n",
    "X = UpSampling1D(4)(X)\n",
    "\n",
    "X = Conv1D(filters=8, kernel_size=3, strides=1, padding='causal', activation='relu')(X)\n",
    "X = BatchNormalization()(X)\n",
    "X = UpSampling1D(6)(X)\n",
    "\n",
    "X = Conv1D(filters=4, kernel_size=3, strides=1, padding='causal', activation='relu')(X)\n",
    "X = BatchNormalization()(X)\n",
    "X = UpSampling1D(6)(X)\n",
    "decoded = Conv1D(filters=1, kernel_size=3, strides=1, padding='causal', activation='sigmoid')(X)"
   ]
  },
  {
   "cell_type": "code",
   "execution_count": null,
   "metadata": {},
   "outputs": [],
   "source": [
    "ConvAuto_Simulation = Model(inputs=[input_seq], outputs=[decoded])"
   ]
  },
  {
   "cell_type": "code",
   "execution_count": null,
   "metadata": {},
   "outputs": [],
   "source": [
    "ConvAuto_Real = clone_model(ConvAuto_Simulation)"
   ]
  },
  {
   "cell_type": "code",
   "execution_count": null,
   "metadata": {
    "scrolled": false
   },
   "outputs": [],
   "source": [
    "ConvAuto_Simulation.summary()"
   ]
  },
  {
   "cell_type": "code",
   "execution_count": null,
   "metadata": {},
   "outputs": [],
   "source": [
    "optimizer = Adam(lr=0.001, beta_1=0.9, beta_2=0.999,\n",
    "                                  epsilon=None, decay=0.0, amsgrad=False)\n",
    "\n",
    "checkpoint_cb = ModelCheckpoint('Conv1DAuto_Real.h5', save_best_only=True)\n",
    "\n",
    "earlystopping_cb = EarlyStopping(patience=5)"
   ]
  },
  {
   "cell_type": "code",
   "execution_count": null,
   "metadata": {},
   "outputs": [],
   "source": [
    "ConvAuto_Real.compile(loss='mse', optimizer=optimizer,\n",
    "                     metrics=['mse'])"
   ]
  },
  {
   "cell_type": "code",
   "execution_count": null,
   "metadata": {
    "scrolled": true
   },
   "outputs": [],
   "source": [
    "history_real = ConvAuto_Real.fit(X_train, X_train, batch_size=batch_size, epochs=n_epochs,\n",
    "                        callbacks=[checkpoint_cb, earlystopping_cb], \n",
    "                        validation_data=(X_valid, X_valid))"
   ]
  },
  {
   "cell_type": "code",
   "execution_count": null,
   "metadata": {
    "scrolled": true
   },
   "outputs": [],
   "source": [
    "plt.plot(history_real.history['loss'])\n",
    "plt.plot(history_real.history['val_loss'])"
   ]
  },
  {
   "cell_type": "code",
   "execution_count": null,
   "metadata": {},
   "outputs": [],
   "source": [
    "X_pred = ConvAuto_Real.predict(X_test)"
   ]
  },
  {
   "cell_type": "code",
   "execution_count": null,
   "metadata": {},
   "outputs": [],
   "source": [
    "plt.plot(X_pred[500])\n",
    "plt.plot(X_test[500])"
   ]
  },
  {
   "cell_type": "code",
   "execution_count": null,
   "metadata": {},
   "outputs": [],
   "source": [
    "plt.plot(X_pred[50])\n",
    "plt.plot(X_test[50])"
   ]
  },
  {
   "cell_type": "code",
   "execution_count": null,
   "metadata": {},
   "outputs": [],
   "source": []
  },
  {
   "cell_type": "code",
   "execution_count": null,
   "metadata": {},
   "outputs": [],
   "source": []
  },
  {
   "cell_type": "code",
   "execution_count": null,
   "metadata": {},
   "outputs": [],
   "source": []
  },
  {
   "cell_type": "code",
   "execution_count": null,
   "metadata": {},
   "outputs": [],
   "source": [
    "# generate simulation sequence using trigonometric functions\n",
    "x = np.linspace(0, 1, timesteps)\n",
    "X = np.zeros((n_samples, timesteps, 1))\n",
    "\n",
    "for i in range(n_samples):\n",
    "    z = np.random.normal()\n",
    "    a = np.random.random()*10\n",
    "    b = np.random.random()*5\n",
    "    y = np.sin(2*np.pi*a*x) + z*10*np.sin(2*np.pi*b*x)\n",
    "    X[i] = y.reshape(timesteps, 1)"
   ]
  },
  {
   "cell_type": "code",
   "execution_count": null,
   "metadata": {},
   "outputs": [],
   "source": [
    "X_train = X[:4000]\n",
    "X_test = X[4500:]\n",
    "X_valid = X[4000:4500]"
   ]
  },
  {
   "cell_type": "code",
   "execution_count": null,
   "metadata": {},
   "outputs": [],
   "source": [
    "X_train = preprocess(X_train)\n",
    "X_test = preprocess(X_test)\n",
    "X_valid = preprocess(X_valid)"
   ]
  },
  {
   "cell_type": "code",
   "execution_count": null,
   "metadata": {},
   "outputs": [],
   "source": [
    "print(X_train.shape)\n",
    "print(X_test.shape)\n",
    "print(X_valid.shape)"
   ]
  },
  {
   "cell_type": "code",
   "execution_count": null,
   "metadata": {},
   "outputs": [],
   "source": [
    "plt.plot(X_train[100])"
   ]
  },
  {
   "cell_type": "code",
   "execution_count": null,
   "metadata": {},
   "outputs": [],
   "source": []
  },
  {
   "cell_type": "code",
   "execution_count": null,
   "metadata": {},
   "outputs": [],
   "source": [
    "optimizer = Adam(lr=0.001, beta_1=0.9, beta_2=0.999,\n",
    "                                  epsilon=None, decay=0.0, amsgrad=False)\n",
    "\n",
    "checkpoint_cb = ModelCheckpoint('Conv1DAuto_Simulation.h5', save_best_only=True)\n",
    "\n",
    "earlystopping_cb = EarlyStopping(patience=5)"
   ]
  },
  {
   "cell_type": "code",
   "execution_count": null,
   "metadata": {},
   "outputs": [],
   "source": [
    "ConvAuto_Simulation.compile(loss='mse', optimizer=optimizer,\n",
    "                     metrics=['mse'])"
   ]
  },
  {
   "cell_type": "code",
   "execution_count": null,
   "metadata": {
    "scrolled": false
   },
   "outputs": [],
   "source": [
    "history_simulation = ConvAuto_Simulation.fit(X_train, X_train, batch_size=batch_size, epochs=n_epochs,\n",
    "                        callbacks=[checkpoint_cb, earlystopping_cb], \n",
    "                        validation_data=(X_valid, X_valid))"
   ]
  },
  {
   "cell_type": "code",
   "execution_count": null,
   "metadata": {},
   "outputs": [],
   "source": [
    "plt.plot(history_simulation.history['loss'])\n",
    "plt.plot(history_simulation.history['val_loss'])"
   ]
  },
  {
   "cell_type": "code",
   "execution_count": null,
   "metadata": {},
   "outputs": [],
   "source": [
    "X_pred = ConvAuto_Simulation.predict(X_test)"
   ]
  },
  {
   "cell_type": "code",
   "execution_count": null,
   "metadata": {},
   "outputs": [],
   "source": [
    "plt.plot(X_pred[500])\n",
    "plt.plot(X_test[500])"
   ]
  },
  {
   "cell_type": "code",
   "execution_count": null,
   "metadata": {},
   "outputs": [],
   "source": [
    "plt.plot(X_pred[501])\n",
    "plt.plot(X_test[501])"
   ]
  },
  {
   "cell_type": "code",
   "execution_count": null,
   "metadata": {},
   "outputs": [],
   "source": [
    "plt.plot(X_pred[400])\n",
    "plt.plot(X_test[400])"
   ]
  },
  {
   "cell_type": "code",
   "execution_count": null,
   "metadata": {},
   "outputs": [],
   "source": []
  }
 ],
 "metadata": {
  "hide_input": false,
  "kernelspec": {
   "display_name": "Python 3",
   "language": "python",
   "name": "python3"
  },
  "language_info": {
   "codemirror_mode": {
    "name": "ipython",
    "version": 3
   },
   "file_extension": ".py",
   "mimetype": "text/x-python",
   "name": "python",
   "nbconvert_exporter": "python",
   "pygments_lexer": "ipython3",
   "version": "3.6.8"
  },
  "toc": {
   "base_numbering": 1,
   "nav_menu": {},
   "number_sections": true,
   "sideBar": true,
   "skip_h1_title": false,
   "title_cell": "Table of Contents",
   "title_sidebar": "Contents",
   "toc_cell": false,
   "toc_position": {},
   "toc_section_display": true,
   "toc_window_display": false
  },
  "varInspector": {
   "cols": {
    "lenName": 16,
    "lenType": 16,
    "lenVar": 40
   },
   "kernels_config": {
    "python": {
     "delete_cmd_postfix": "",
     "delete_cmd_prefix": "del ",
     "library": "var_list.py",
     "varRefreshCmd": "print(var_dic_list())"
    },
    "r": {
     "delete_cmd_postfix": ") ",
     "delete_cmd_prefix": "rm(",
     "library": "var_list.r",
     "varRefreshCmd": "cat(var_dic_list()) "
    }
   },
   "types_to_exclude": [
    "module",
    "function",
    "builtin_function_or_method",
    "instance",
    "_Feature"
   ],
   "window_display": false
  }
 },
 "nbformat": 4,
 "nbformat_minor": 2
}
