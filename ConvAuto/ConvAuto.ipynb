{
 "cells": [
  {
   "cell_type": "code",
   "execution_count": 1,
   "metadata": {},
   "outputs": [],
   "source": [
    "import os\n",
    "import glob\n",
    "import numpy as np\n",
    "import pandas as pd\n",
    "from sklearn.preprocessing import StandardScaler\n",
    "\n",
    "%matplotlib inline\n",
    "import matplotlib.pyplot as plt\n",
    "\n",
    "np.random.seed(42)"
   ]
  },
  {
   "cell_type": "code",
   "execution_count": 2,
   "metadata": {},
   "outputs": [
    {
     "name": "stderr",
     "output_type": "stream",
     "text": [
      "Using TensorFlow backend.\n"
     ]
    }
   ],
   "source": [
    "import tensorflow as tf\n",
    "tf.random.set_seed(42)\n",
    "\n",
    "from tensorflow.keras.layers import Input\n",
    "from tensorflow.keras.layers import Conv1D\n",
    "from tensorflow.keras.layers import LocallyConnected1D\n",
    "from tensorflow.keras.layers import Dense\n",
    "from tensorflow.keras.layers import UpSampling1D\n",
    "from tensorflow.keras.layers import Dropout\n",
    "from tensorflow.keras.layers import MaxPooling1D\n",
    "from tensorflow.keras.layers import BatchNormalization\n",
    "\n",
    "from tensorflow.keras.models import Sequential\n",
    "from tensorflow.keras.models import Model\n",
    "from tensorflow.keras.models import clone_model\n",
    "\n",
    "from tensorflow.keras.callbacks import ModelCheckpoint\n",
    "from tensorflow.keras.callbacks import EarlyStopping\n",
    "from tensorflow.keras.optimizers import Adam\n",
    "\n",
    "from keras.utils import plot_model"
   ]
  },
  {
   "cell_type": "code",
   "execution_count": 3,
   "metadata": {},
   "outputs": [],
   "source": [
    "timesteps = 1440\n",
    "input_dim = 1\n",
    "n_epochs = 100\n",
    "batch_size = 32\n",
    "drop_rate = 0.8\n",
    "n_samples = 6000"
   ]
  },
  {
   "cell_type": "code",
   "execution_count": 4,
   "metadata": {},
   "outputs": [],
   "source": [
    "# load real-world time series trading data\n",
    "def load_data(symbol):\n",
    "    \n",
    "    ROOT = os.path.join(os.getcwd(), 'datasets')\n",
    "    allfiles = glob.glob(os.path.join(ROOT, symbol, '*.csv'))\n",
    "    n_samples = np.size(allfiles)\n",
    "    \n",
    "    data = np.zeros((n_samples, timesteps, input_dim))\n",
    "    for i, file in enumerate(allfiles):\n",
    "        df = pd.read_csv(file, usecols=[4])\n",
    "        if df.values.shape[0] != timesteps:\n",
    "            print(file)\n",
    "            print(i + ' missing rows')\n",
    "        else:\n",
    "            data[i] = df.values\n",
    "    \n",
    "    return data"
   ]
  },
  {
   "cell_type": "code",
   "execution_count": 5,
   "metadata": {},
   "outputs": [],
   "source": [
    "symbol_list = ['kiwi']\n",
    "# symbol_list = ['apple', 'banana', 'cherry', 'grape', 'kiwi', 'orange']\n",
    "data_dict = {}\n",
    "\n",
    "for symbol in symbol_list:\n",
    "    data_dict[symbol] = load_data(symbol)"
   ]
  },
  {
   "cell_type": "code",
   "execution_count": 6,
   "metadata": {},
   "outputs": [],
   "source": [
    "def train_test_split(data):\n",
    "    # training set is 0.8 of the total\n",
    "    test_split = int(data.shape[0]*0.8)\n",
    "    X_train_full = data[:test_split]\n",
    "    X_test = data[test_split:]\n",
    "    # validation set is 0.1 of the training\n",
    "    valid_split = int(test_split*0.9)\n",
    "    X_train = X_train_full[:valid_split]\n",
    "    X_valid = X_train_full[valid_split:]\n",
    "    \n",
    "    return X_train, X_test, X_valid"
   ]
  },
  {
   "cell_type": "code",
   "execution_count": 7,
   "metadata": {},
   "outputs": [],
   "source": [
    "RawData = data_dict['kiwi'].copy()\n",
    "\n",
    "X_train, X_test, X_valid = train_test_split(RawData)"
   ]
  },
  {
   "cell_type": "code",
   "execution_count": 8,
   "metadata": {},
   "outputs": [],
   "source": [
    "def preprocess(data):\n",
    "    for i in range(data.shape[0]):\n",
    "        scaler = StandardScaler()\n",
    "        data[i] = scaler.fit_transform(data[i])\n",
    "        \n",
    "    return data"
   ]
  },
  {
   "cell_type": "code",
   "execution_count": 9,
   "metadata": {},
   "outputs": [],
   "source": [
    "X_train = preprocess(X_train)\n",
    "X_test = preprocess(X_test)\n",
    "X_valid = preprocess(X_valid)"
   ]
  },
  {
   "cell_type": "code",
   "execution_count": 10,
   "metadata": {
    "scrolled": true
   },
   "outputs": [
    {
     "name": "stdout",
     "output_type": "stream",
     "text": [
      "(3866, 1440, 1)\n",
      "(1075, 1440, 1)\n",
      "(430, 1440, 1)\n"
     ]
    }
   ],
   "source": [
    "print(X_train.shape)\n",
    "print(X_test.shape)\n",
    "print(X_valid.shape)"
   ]
  },
  {
   "cell_type": "code",
   "execution_count": 11,
   "metadata": {},
   "outputs": [
    {
     "data": {
      "text/plain": [
       "[<matplotlib.lines.Line2D at 0x1e3a3437550>]"
      ]
     },
     "execution_count": 11,
     "metadata": {},
     "output_type": "execute_result"
    },
    {
     "data": {
      "image/png": "[encoded data removed]",
      "text/plain": [
       "<Figure size 432x288 with 1 Axes>"
      ]
     },
     "metadata": {
      "needs_background": "light"
     },
     "output_type": "display_data"
    }
   ],
   "source": [
    "plt.plot(X_train[100])"
   ]
  },
  {
   "cell_type": "code",
   "execution_count": null,
   "metadata": {},
   "outputs": [],
   "source": []
  },
  {
   "cell_type": "code",
   "execution_count": 12,
   "metadata": {},
   "outputs": [],
   "source": [
    "# Convolutional Autoencoder"
   ]
  },
  {
   "cell_type": "code",
   "execution_count": 13,
   "metadata": {},
   "outputs": [],
   "source": [
    "# input sequence\n",
    "input_seq = Input(shape=(timesteps, input_dim))\n",
    "\n",
    "# encoder with Conv1D and MaxPooling1D\n",
    "X = Conv1D(filters=4, kernel_size=3, strides=1, padding='causal', activation='relu')(input_seq)\n",
    "X = BatchNormalization()(X)\n",
    "X = MaxPooling1D(6, padding='valid')(X)\n",
    "\n",
    "X = Conv1D(filters=8, kernel_size=3, strides=1, padding='causal', activation='relu')(X)\n",
    "X = BatchNormalization()(X)\n",
    "X = MaxPooling1D(6, padding='valid')(X)\n",
    "\n",
    "X = Conv1D(filters=16, kernel_size=3, strides=1, padding='causal', activation='relu')(X)\n",
    "X = BatchNormalization()(X)\n",
    "encoded = MaxPooling1D(4, padding='valid')(X)"
   ]
  },
  {
   "cell_type": "code",
   "execution_count": 14,
   "metadata": {},
   "outputs": [],
   "source": [
    "# decoder with Conv1D and UpSampling1D\n",
    "X = Conv1D(filters=16, kernel_size=3, strides=1, padding='causal', activation='relu')(encoded)\n",
    "X = BatchNormalization()(X)\n",
    "X = UpSampling1D(4)(X)\n",
    "\n",
    "X = Conv1D(filters=8, kernel_size=3, strides=1, padding='causal', activation='relu')(X)\n",
    "X = BatchNormalization()(X)\n",
    "X = UpSampling1D(6)(X)\n",
    "\n",
    "X = Conv1D(filters=4, kernel_size=3, strides=1, padding='causal', activation='relu')(X)\n",
    "X = BatchNormalization()(X)\n",
    "X = UpSampling1D(6)(X)\n",
    "decoded = Conv1D(filters=1, kernel_size=3, strides=1, padding='causal', activation='sigmoid')(X)"
   ]
  },
  {
   "cell_type": "code",
   "execution_count": 15,
   "metadata": {},
   "outputs": [],
   "source": [
    "ConvAuto_Simulation = Model(inputs=[input_seq], outputs=[decoded])"
   ]
  },
  {
   "cell_type": "code",
   "execution_count": 48,
   "metadata": {},
   "outputs": [],
   "source": [
    "ConvAuto_Real = clone_model(ConvAuto_Simulation)"
   ]
  },
  {
   "cell_type": "code",
   "execution_count": 17,
   "metadata": {
    "scrolled": false
   },
   "outputs": [
    {
     "name": "stdout",
     "output_type": "stream",
     "text": [
      "Model: \"model\"\n",
      "_________________________________________________________________\n",
      "Layer (type)                 Output Shape              Param #   \n",
      "=================================================================\n",
      "input_1 (InputLayer)         [(None, 1440, 1)]         0         \n",
      "_________________________________________________________________\n",
      "conv1d (Conv1D)              (None, 1440, 4)           16        \n",
      "_________________________________________________________________\n",
      "batch_normalization_v2 (Batc (None, 1440, 4)           16        \n",
      "_________________________________________________________________\n",
      "max_pooling1d (MaxPooling1D) (None, 240, 4)            0         \n",
      "_________________________________________________________________\n",
      "conv1d_1 (Conv1D)            (None, 240, 8)            104       \n",
      "_________________________________________________________________\n",
      "batch_normalization_v2_1 (Ba (None, 240, 8)            32        \n",
      "_________________________________________________________________\n",
      "max_pooling1d_1 (MaxPooling1 (None, 40, 8)             0         \n",
      "_________________________________________________________________\n",
      "conv1d_2 (Conv1D)            (None, 40, 16)            400       \n",
      "_________________________________________________________________\n",
      "batch_normalization_v2_2 (Ba (None, 40, 16)            64        \n",
      "_________________________________________________________________\n",
      "max_pooling1d_2 (MaxPooling1 (None, 10, 16)            0         \n",
      "_________________________________________________________________\n",
      "conv1d_3 (Conv1D)            (None, 10, 16)            784       \n",
      "_________________________________________________________________\n",
      "batch_normalization_v2_3 (Ba (None, 10, 16)            64        \n",
      "_________________________________________________________________\n",
      "up_sampling1d (UpSampling1D) (None, 40, 16)            0         \n",
      "_________________________________________________________________\n",
      "conv1d_4 (Conv1D)            (None, 40, 8)             392       \n",
      "_________________________________________________________________\n",
      "batch_normalization_v2_4 (Ba (None, 40, 8)             32        \n",
      "_________________________________________________________________\n",
      "up_sampling1d_1 (UpSampling1 (None, 240, 8)            0         \n",
      "_________________________________________________________________\n",
      "conv1d_5 (Conv1D)            (None, 240, 4)            100       \n",
      "_________________________________________________________________\n",
      "batch_normalization_v2_5 (Ba (None, 240, 4)            16        \n",
      "_________________________________________________________________\n",
      "up_sampling1d_2 (UpSampling1 (None, 1440, 4)           0         \n",
      "_________________________________________________________________\n",
      "conv1d_6 (Conv1D)            (None, 1440, 1)           13        \n",
      "=================================================================\n",
      "Total params: 2,033\n",
      "Trainable params: 1,921\n",
      "Non-trainable params: 112\n",
      "_________________________________________________________________\n"
     ]
    }
   ],
   "source": [
    "ConvAuto_Simulation.summary()"
   ]
  },
  {
   "cell_type": "code",
   "execution_count": 18,
   "metadata": {},
   "outputs": [],
   "source": [
    "optimizer = Adam(lr=0.001, beta_1=0.9, beta_2=0.999,\n",
    "                                  epsilon=None, decay=0.0, amsgrad=False)\n",
    "\n",
    "checkpoint_cb = ModelCheckpoint('ConvAuto_Real.h5', save_best_only=True)\n",
    "\n",
    "earlystopping_cb = EarlyStopping(patience=5)"
   ]
  },
  {
   "cell_type": "code",
   "execution_count": 19,
   "metadata": {},
   "outputs": [],
   "source": [
    "ConvAuto_Real.compile(loss='mse', optimizer=optimizer,\n",
    "                     metrics=['mse'])"
   ]
  },
  {
   "cell_type": "code",
   "execution_count": 20,
   "metadata": {
    "scrolled": true
   },
   "outputs": [
    {
     "name": "stdout",
     "output_type": "stream",
     "text": [
      "Train on 3866 samples, validate on 430 samples\n",
      "Epoch 1/100\n",
      "3866/3866 [==============================] - 9s 2ms/sample - loss: 0.7626 - mse: 0.7626 - val_loss: 0.7415 - val_mse: 0.7415\n",
      "Epoch 2/100\n",
      "3866/3866 [==============================] - 7s 2ms/sample - loss: 0.6233 - mse: 0.6233 - val_loss: 0.6446 - val_mse: 0.6446\n",
      "Epoch 3/100\n",
      "3866/3866 [==============================] - 7s 2ms/sample - loss: 0.6052 - mse: 0.6052 - val_loss: 0.6243 - val_mse: 0.6243\n",
      "Epoch 4/100\n",
      "3866/3866 [==============================] - 7s 2ms/sample - loss: 0.5970 - mse: 0.5970 - val_loss: 0.6193 - val_mse: 0.6193\n",
      "Epoch 5/100\n",
      "3866/3866 [==============================] - 7s 2ms/sample - loss: 0.5920 - mse: 0.5920 - val_loss: 0.6160 - val_mse: 0.6160\n",
      "Epoch 6/100\n",
      "3866/3866 [==============================] - 7s 2ms/sample - loss: 0.5887 - mse: 0.5887 - val_loss: 0.6138 - val_mse: 0.6138\n",
      "Epoch 7/100\n",
      "3866/3866 [==============================] - 7s 2ms/sample - loss: 0.5863 - mse: 0.5863 - val_loss: 0.6111 - val_mse: 0.6111\n",
      "Epoch 8/100\n",
      "3866/3866 [==============================] - 7s 2ms/sample - loss: 0.5844 - mse: 0.5844 - val_loss: 0.6089 - val_mse: 0.6089\n",
      "Epoch 9/100\n",
      "3866/3866 [==============================] - 7s 2ms/sample - loss: 0.5830 - mse: 0.5830 - val_loss: 0.6062 - val_mse: 0.6062\n",
      "Epoch 10/100\n",
      "3866/3866 [==============================] - 7s 2ms/sample - loss: 0.5816 - mse: 0.5816 - val_loss: 0.6058 - val_mse: 0.6058\n",
      "Epoch 11/100\n",
      "3866/3866 [==============================] - 7s 2ms/sample - loss: 0.5805 - mse: 0.5805 - val_loss: 0.6043 - val_mse: 0.6043\n",
      "Epoch 12/100\n",
      "3866/3866 [==============================] - 7s 2ms/sample - loss: 0.5799 - mse: 0.5799 - val_loss: 0.6027 - val_mse: 0.6027\n",
      "Epoch 13/100\n",
      "3866/3866 [==============================] - 7s 2ms/sample - loss: 0.5789 - mse: 0.5789 - val_loss: 0.6018 - val_mse: 0.6018\n",
      "Epoch 14/100\n",
      "3866/3866 [==============================] - 7s 2ms/sample - loss: 0.5782 - mse: 0.5782 - val_loss: 0.6010 - val_mse: 0.6010\n",
      "Epoch 15/100\n",
      "3866/3866 [==============================] - 7s 2ms/sample - loss: 0.5776 - mse: 0.5776 - val_loss: 0.6002 - val_mse: 0.6002\n",
      "Epoch 16/100\n",
      "3866/3866 [==============================] - 7s 2ms/sample - loss: 0.5772 - mse: 0.5772 - val_loss: 0.6002 - val_mse: 0.6002\n",
      "Epoch 17/100\n",
      "3866/3866 [==============================] - 7s 2ms/sample - loss: 0.5767 - mse: 0.5767 - val_loss: 0.5997 - val_mse: 0.5997\n",
      "Epoch 18/100\n",
      "3866/3866 [==============================] - 7s 2ms/sample - loss: 0.5762 - mse: 0.5762 - val_loss: 0.5994 - val_mse: 0.5994\n",
      "Epoch 19/100\n",
      "3866/3866 [==============================] - 7s 2ms/sample - loss: 0.5763 - mse: 0.5763 - val_loss: 0.5989 - val_mse: 0.5989\n",
      "Epoch 20/100\n",
      "3866/3866 [==============================] - 7s 2ms/sample - loss: 0.5756 - mse: 0.5756 - val_loss: 0.5982 - val_mse: 0.5982\n",
      "Epoch 21/100\n",
      "3866/3866 [==============================] - 7s 2ms/sample - loss: 0.5753 - mse: 0.5753 - val_loss: 0.5982 - val_mse: 0.5982\n",
      "Epoch 22/100\n",
      "3866/3866 [==============================] - 7s 2ms/sample - loss: 0.5751 - mse: 0.5751 - val_loss: 0.5981 - val_mse: 0.5981\n",
      "Epoch 23/100\n",
      "3866/3866 [==============================] - 7s 2ms/sample - loss: 0.5748 - mse: 0.5748 - val_loss: 0.5976 - val_mse: 0.5976\n",
      "Epoch 24/100\n",
      "3866/3866 [==============================] - 7s 2ms/sample - loss: 0.5745 - mse: 0.5745 - val_loss: 0.5970 - val_mse: 0.5970\n",
      "Epoch 25/100\n",
      "3866/3866 [==============================] - 7s 2ms/sample - loss: 0.5743 - mse: 0.5743 - val_loss: 0.5966 - val_mse: 0.5966\n",
      "Epoch 26/100\n",
      "3866/3866 [==============================] - 7s 2ms/sample - loss: 0.5742 - mse: 0.5742 - val_loss: 0.5969 - val_mse: 0.5969\n",
      "Epoch 27/100\n",
      "3866/3866 [==============================] - 7s 2ms/sample - loss: 0.5740 - mse: 0.5740 - val_loss: 0.5960 - val_mse: 0.5960\n",
      "Epoch 28/100\n",
      "3866/3866 [==============================] - 7s 2ms/sample - loss: 0.5738 - mse: 0.5738 - val_loss: 0.5958 - val_mse: 0.5958\n",
      "Epoch 29/100\n",
      "3866/3866 [==============================] - 7s 2ms/sample - loss: 0.5736 - mse: 0.5736 - val_loss: 0.5953 - val_mse: 0.5953\n",
      "Epoch 30/100\n",
      "3866/3866 [==============================] - 7s 2ms/sample - loss: 0.5735 - mse: 0.5735 - val_loss: 0.5957 - val_mse: 0.5957\n",
      "Epoch 31/100\n",
      "3866/3866 [==============================] - 7s 2ms/sample - loss: 0.5734 - mse: 0.5734 - val_loss: 0.5954 - val_mse: 0.5954\n",
      "Epoch 32/100\n",
      "3866/3866 [==============================] - 7s 2ms/sample - loss: 0.5732 - mse: 0.5732 - val_loss: 0.5949 - val_mse: 0.5949\n",
      "Epoch 33/100\n",
      "3866/3866 [==============================] - 7s 2ms/sample - loss: 0.5730 - mse: 0.5730 - val_loss: 0.5945 - val_mse: 0.5945\n",
      "Epoch 34/100\n",
      "3866/3866 [==============================] - 7s 2ms/sample - loss: 0.5730 - mse: 0.5730 - val_loss: 0.5945 - val_mse: 0.5945\n",
      "Epoch 35/100\n",
      "3866/3866 [==============================] - 7s 2ms/sample - loss: 0.5728 - mse: 0.5728 - val_loss: 0.5945 - val_mse: 0.5945\n",
      "Epoch 36/100\n",
      "3866/3866 [==============================] - 7s 2ms/sample - loss: 0.5728 - mse: 0.5728 - val_loss: 0.5940 - val_mse: 0.5940\n",
      "Epoch 37/100\n",
      "3866/3866 [==============================] - 7s 2ms/sample - loss: 0.5726 - mse: 0.5726 - val_loss: 0.5942 - val_mse: 0.5942\n",
      "Epoch 38/100\n",
      "3866/3866 [==============================] - 7s 2ms/sample - loss: 0.5726 - mse: 0.5726 - val_loss: 0.5936 - val_mse: 0.5936\n",
      "Epoch 39/100\n",
      "3866/3866 [==============================] - 7s 2ms/sample - loss: 0.5725 - mse: 0.5725 - val_loss: 0.5935 - val_mse: 0.5935\n",
      "Epoch 40/100\n",
      "3866/3866 [==============================] - 7s 2ms/sample - loss: 0.5724 - mse: 0.5724 - val_loss: 0.5933 - val_mse: 0.5933\n",
      "Epoch 41/100\n",
      "3866/3866 [==============================] - 7s 2ms/sample - loss: 0.5721 - mse: 0.5721 - val_loss: 0.5932 - val_mse: 0.5932\n",
      "Epoch 42/100\n",
      "3866/3866 [==============================] - 7s 2ms/sample - loss: 0.5722 - mse: 0.5722 - val_loss: 0.5927 - val_mse: 0.5927\n",
      "Epoch 43/100\n",
      "3866/3866 [==============================] - 7s 2ms/sample - loss: 0.5719 - mse: 0.5719 - val_loss: 0.5926 - val_mse: 0.5926\n",
      "Epoch 44/100\n",
      "3866/3866 [==============================] - 7s 2ms/sample - loss: 0.5718 - mse: 0.5718 - val_loss: 0.5922 - val_mse: 0.5922\n",
      "Epoch 45/100\n",
      "3866/3866 [==============================] - 7s 2ms/sample - loss: 0.5718 - mse: 0.5718 - val_loss: 0.5920 - val_mse: 0.5920\n",
      "Epoch 46/100\n",
      "3866/3866 [==============================] - 7s 2ms/sample - loss: 0.5716 - mse: 0.5716 - val_loss: 0.5918 - val_mse: 0.5918\n",
      "Epoch 47/100\n",
      "3866/3866 [==============================] - 7s 2ms/sample - loss: 0.5716 - mse: 0.5716 - val_loss: 0.5918 - val_mse: 0.5918\n",
      "Epoch 48/100\n",
      "3866/3866 [==============================] - 7s 2ms/sample - loss: 0.5715 - mse: 0.5715 - val_loss: 0.5918 - val_mse: 0.5918\n",
      "Epoch 49/100\n",
      "3866/3866 [==============================] - 7s 2ms/sample - loss: 0.5715 - mse: 0.5715 - val_loss: 0.5916 - val_mse: 0.5916\n",
      "Epoch 50/100\n",
      "3866/3866 [==============================] - 7s 2ms/sample - loss: 0.5713 - mse: 0.5713 - val_loss: 0.5915 - val_mse: 0.5915\n",
      "Epoch 51/100\n",
      "3866/3866 [==============================] - 7s 2ms/sample - loss: 0.5713 - mse: 0.5713 - val_loss: 0.5914 - val_mse: 0.5914\n",
      "Epoch 52/100\n",
      "3866/3866 [==============================] - 7s 2ms/sample - loss: 0.5712 - mse: 0.5712 - val_loss: 0.5911 - val_mse: 0.5911\n",
      "Epoch 53/100\n",
      "3866/3866 [==============================] - 7s 2ms/sample - loss: 0.5711 - mse: 0.5711 - val_loss: 0.5913 - val_mse: 0.5913\n",
      "Epoch 54/100\n",
      "3866/3866 [==============================] - 7s 2ms/sample - loss: 0.5710 - mse: 0.5710 - val_loss: 0.5914 - val_mse: 0.5914\n",
      "Epoch 55/100\n",
      "3866/3866 [==============================] - 7s 2ms/sample - loss: 0.5709 - mse: 0.5709 - val_loss: 0.5917 - val_mse: 0.5917\n",
      "Epoch 56/100\n",
      "3866/3866 [==============================] - 7s 2ms/sample - loss: 0.5710 - mse: 0.5710 - val_loss: 0.5916 - val_mse: 0.5916\n",
      "Epoch 57/100\n",
      "3866/3866 [==============================] - 7s 2ms/sample - loss: 0.5708 - mse: 0.5708 - val_loss: 0.5911 - val_mse: 0.5911\n",
      "Epoch 58/100\n",
      "3866/3866 [==============================] - 7s 2ms/sample - loss: 0.5707 - mse: 0.5707 - val_loss: 0.5910 - val_mse: 0.5910\n",
      "Epoch 59/100\n",
      "3866/3866 [==============================] - 7s 2ms/sample - loss: 0.5706 - mse: 0.5706 - val_loss: 0.5908 - val_mse: 0.5908\n",
      "Epoch 60/100\n"
     ]
    },
    {
     "name": "stdout",
     "output_type": "stream",
     "text": [
      "3866/3866 [==============================] - 7s 2ms/sample - loss: 0.5706 - mse: 0.5706 - val_loss: 0.5908 - val_mse: 0.5908\n",
      "Epoch 61/100\n",
      "3866/3866 [==============================] - 7s 2ms/sample - loss: 0.5705 - mse: 0.5705 - val_loss: 0.5907 - val_mse: 0.5907\n",
      "Epoch 62/100\n",
      "3866/3866 [==============================] - 7s 2ms/sample - loss: 0.5705 - mse: 0.5705 - val_loss: 0.5908 - val_mse: 0.5908\n",
      "Epoch 63/100\n",
      "3866/3866 [==============================] - 7s 2ms/sample - loss: 0.5704 - mse: 0.5704 - val_loss: 0.5908 - val_mse: 0.5908\n",
      "Epoch 64/100\n",
      "3866/3866 [==============================] - 7s 2ms/sample - loss: 0.5706 - mse: 0.5706 - val_loss: 0.5906 - val_mse: 0.5906\n",
      "Epoch 65/100\n",
      "3866/3866 [==============================] - 7s 2ms/sample - loss: 0.5706 - mse: 0.5706 - val_loss: 0.5905 - val_mse: 0.5905\n",
      "Epoch 66/100\n",
      "3866/3866 [==============================] - 7s 2ms/sample - loss: 0.5703 - mse: 0.5703 - val_loss: 0.5904 - val_mse: 0.5904\n",
      "Epoch 67/100\n",
      "3866/3866 [==============================] - 7s 2ms/sample - loss: 0.5703 - mse: 0.5703 - val_loss: 0.5904 - val_mse: 0.5904\n",
      "Epoch 68/100\n",
      "3866/3866 [==============================] - 7s 2ms/sample - loss: 0.5702 - mse: 0.5702 - val_loss: 0.5903 - val_mse: 0.5903\n",
      "Epoch 69/100\n",
      "3866/3866 [==============================] - 7s 2ms/sample - loss: 0.5702 - mse: 0.5702 - val_loss: 0.5902 - val_mse: 0.5902\n",
      "Epoch 70/100\n",
      "3866/3866 [==============================] - 7s 2ms/sample - loss: 0.5701 - mse: 0.5701 - val_loss: 0.5902 - val_mse: 0.5902\n",
      "Epoch 71/100\n",
      "3866/3866 [==============================] - 7s 2ms/sample - loss: 0.5701 - mse: 0.5701 - val_loss: 0.5906 - val_mse: 0.5906\n",
      "Epoch 72/100\n",
      "3866/3866 [==============================] - 7s 2ms/sample - loss: 0.5701 - mse: 0.5701 - val_loss: 0.5905 - val_mse: 0.5905\n",
      "Epoch 73/100\n",
      "3866/3866 [==============================] - 7s 2ms/sample - loss: 0.5701 - mse: 0.5701 - val_loss: 0.5906 - val_mse: 0.5906\n",
      "Epoch 74/100\n",
      "3866/3866 [==============================] - 7s 2ms/sample - loss: 0.5700 - mse: 0.5700 - val_loss: 0.5899 - val_mse: 0.5899\n",
      "Epoch 75/100\n",
      "3866/3866 [==============================] - 7s 2ms/sample - loss: 0.5699 - mse: 0.5699 - val_loss: 0.5900 - val_mse: 0.5900\n",
      "Epoch 76/100\n",
      "3866/3866 [==============================] - 7s 2ms/sample - loss: 0.5699 - mse: 0.5699 - val_loss: 0.5903 - val_mse: 0.5903\n",
      "Epoch 77/100\n",
      "3866/3866 [==============================] - 7s 2ms/sample - loss: 0.5697 - mse: 0.5697 - val_loss: 0.5901 - val_mse: 0.5901\n",
      "Epoch 78/100\n",
      "3866/3866 [==============================] - 7s 2ms/sample - loss: 0.5697 - mse: 0.5697 - val_loss: 0.5901 - val_mse: 0.5901\n",
      "Epoch 79/100\n",
      "3866/3866 [==============================] - 7s 2ms/sample - loss: 0.5697 - mse: 0.5697 - val_loss: 0.5899 - val_mse: 0.5899\n",
      "Epoch 80/100\n",
      "3866/3866 [==============================] - 7s 2ms/sample - loss: 0.5697 - mse: 0.5697 - val_loss: 0.5901 - val_mse: 0.5901\n",
      "Epoch 81/100\n",
      "3866/3866 [==============================] - 7s 2ms/sample - loss: 0.5697 - mse: 0.5697 - val_loss: 0.5898 - val_mse: 0.5898\n",
      "Epoch 82/100\n",
      "3866/3866 [==============================] - 7s 2ms/sample - loss: 0.5697 - mse: 0.5697 - val_loss: 0.5896 - val_mse: 0.5896\n",
      "Epoch 83/100\n",
      "3866/3866 [==============================] - 7s 2ms/sample - loss: 0.5696 - mse: 0.5696 - val_loss: 0.5897 - val_mse: 0.5897\n",
      "Epoch 84/100\n",
      "3866/3866 [==============================] - 7s 2ms/sample - loss: 0.5695 - mse: 0.5695 - val_loss: 0.5897 - val_mse: 0.5897\n",
      "Epoch 85/100\n",
      "3866/3866 [==============================] - 7s 2ms/sample - loss: 0.5696 - mse: 0.5696 - val_loss: 0.5899 - val_mse: 0.5899\n",
      "Epoch 86/100\n",
      "3866/3866 [==============================] - 7s 2ms/sample - loss: 0.5696 - mse: 0.5696 - val_loss: 0.5901 - val_mse: 0.5901\n",
      "Epoch 87/100\n",
      "3866/3866 [==============================] - 7s 2ms/sample - loss: 0.5696 - mse: 0.5696 - val_loss: 0.5898 - val_mse: 0.5898\n"
     ]
    }
   ],
   "source": [
    "history_real = ConvAuto_Real.fit(X_train, X_train, batch_size=batch_size, epochs=n_epochs,\n",
    "                        callbacks=[checkpoint_cb, earlystopping_cb], \n",
    "                        validation_data=(X_valid, X_valid))"
   ]
  },
  {
   "cell_type": "code",
   "execution_count": 24,
   "metadata": {
    "scrolled": true
   },
   "outputs": [
    {
     "data": {
      "text/plain": [
       "[<matplotlib.lines.Line2D at 0x1e3b9fe2400>]"
      ]
     },
     "execution_count": 24,
     "metadata": {},
     "output_type": "execute_result"
    },
    {
     "data": {
      "image/png": "[encoded data removed]",
      "text/plain": [
       "<Figure size 432x288 with 1 Axes>"
      ]
     },
     "metadata": {
      "needs_background": "light"
     },
     "output_type": "display_data"
    }
   ],
   "source": [
    "plt.plot(history_real.history['loss'])\n",
    "plt.plot(history_real.history['val_loss'])"
   ]
  },
  {
   "cell_type": "code",
   "execution_count": 25,
   "metadata": {},
   "outputs": [],
   "source": [
    "X_pred = ConvAuto_Real.predict(X_test)"
   ]
  },
  {
   "cell_type": "code",
   "execution_count": 26,
   "metadata": {},
   "outputs": [
    {
     "data": {
      "text/plain": [
       "[<matplotlib.lines.Line2D at 0x1e3ba4caa90>]"
      ]
     },
     "execution_count": 26,
     "metadata": {},
     "output_type": "execute_result"
    },
    {
     "data": {
      "image/png": "[encoded data removed]",
      "text/plain": [
       "<Figure size 432x288 with 1 Axes>"
      ]
     },
     "metadata": {
      "needs_background": "light"
     },
     "output_type": "display_data"
    }
   ],
   "source": [
    "plt.plot(X_pred[500])\n",
    "plt.plot(X_test[500])"
   ]
  },
  {
   "cell_type": "code",
   "execution_count": 27,
   "metadata": {},
   "outputs": [
    {
     "data": {
      "text/plain": [
       "[<matplotlib.lines.Line2D at 0x1e3baad0710>]"
      ]
     },
     "execution_count": 27,
     "metadata": {},
     "output_type": "execute_result"
    },
    {
     "data": {
      "image/png": "[encoded data removed]",
      "text/plain": [
       "<Figure size 432x288 with 1 Axes>"
      ]
     },
     "metadata": {
      "needs_background": "light"
     },
     "output_type": "display_data"
    }
   ],
   "source": [
    "plt.plot(X_pred[50])\n",
    "plt.plot(X_test[50])"
   ]
  },
  {
   "cell_type": "code",
   "execution_count": null,
   "metadata": {},
   "outputs": [],
   "source": []
  },
  {
   "cell_type": "code",
   "execution_count": null,
   "metadata": {},
   "outputs": [],
   "source": []
  },
  {
   "cell_type": "code",
   "execution_count": null,
   "metadata": {},
   "outputs": [],
   "source": []
  },
  {
   "cell_type": "code",
   "execution_count": 40,
   "metadata": {},
   "outputs": [],
   "source": [
    "# generate simulation sequence using trigonometric functions\n",
    "x = np.linspace(0, 1, timesteps)\n",
    "X = np.zeros((n_samples, timesteps, 1))\n",
    "\n",
    "for i in range(n_samples):\n",
    "    z = np.random.normal()\n",
    "    a = np.random.random()*10\n",
    "    b = np.random.random()*5\n",
    "    y = np.sin(2*np.pi*a*x) + z*10*np.sin(2*np.pi*b*x)\n",
    "    X[i] = y.reshape(timesteps, 1)"
   ]
  },
  {
   "cell_type": "code",
   "execution_count": 41,
   "metadata": {},
   "outputs": [],
   "source": [
    "X_train = X[:4000]\n",
    "X_test = X[4500:]\n",
    "X_valid = X[4000:4500]"
   ]
  },
  {
   "cell_type": "code",
   "execution_count": 42,
   "metadata": {},
   "outputs": [],
   "source": [
    "X_train = preprocess(X_train)\n",
    "X_test = preprocess(X_test)\n",
    "X_valid = preprocess(X_valid)"
   ]
  },
  {
   "cell_type": "code",
   "execution_count": 43,
   "metadata": {},
   "outputs": [
    {
     "name": "stdout",
     "output_type": "stream",
     "text": [
      "(4000, 1440, 1)\n",
      "(1500, 1440, 1)\n",
      "(500, 1440, 1)\n"
     ]
    }
   ],
   "source": [
    "print(X_train.shape)\n",
    "print(X_test.shape)\n",
    "print(X_valid.shape)"
   ]
  },
  {
   "cell_type": "code",
   "execution_count": 44,
   "metadata": {},
   "outputs": [
    {
     "data": {
      "text/plain": [
       "[<matplotlib.lines.Line2D at 0x1e3d0eb4da0>]"
      ]
     },
     "execution_count": 44,
     "metadata": {},
     "output_type": "execute_result"
    },
    {
     "data": {
      "image/png": "[encoded data removed]",
      "text/plain": [
       "<Figure size 432x288 with 1 Axes>"
      ]
     },
     "metadata": {
      "needs_background": "light"
     },
     "output_type": "display_data"
    }
   ],
   "source": [
    "plt.plot(X_train[100])"
   ]
  },
  {
   "cell_type": "code",
   "execution_count": null,
   "metadata": {},
   "outputs": [],
   "source": []
  },
  {
   "cell_type": "code",
   "execution_count": 49,
   "metadata": {},
   "outputs": [],
   "source": [
    "optimizer = Adam(lr=0.001, beta_1=0.9, beta_2=0.999,\n",
    "                                  epsilon=None, decay=0.0, amsgrad=False)\n",
    "\n",
    "checkpoint_cb = ModelCheckpoint('ConvAuto_Simulation.h5', save_best_only=True)\n",
    "\n",
    "earlystopping_cb = EarlyStopping(patience=5)"
   ]
  },
  {
   "cell_type": "code",
   "execution_count": 50,
   "metadata": {},
   "outputs": [],
   "source": [
    "ConvAuto_Simulation.compile(loss='mse', optimizer=optimizer,\n",
    "                     metrics=['mse'])"
   ]
  },
  {
   "cell_type": "code",
   "execution_count": 51,
   "metadata": {
    "scrolled": false
   },
   "outputs": [
    {
     "name": "stdout",
     "output_type": "stream",
     "text": [
      "Train on 4000 samples, validate on 500 samples\n",
      "Epoch 1/100\n",
      "4000/4000 [==============================] - 10s 2ms/sample - loss: 0.5570 - mse: 0.5570 - val_loss: 0.5665 - val_mse: 0.5665\n",
      "Epoch 2/100\n",
      "4000/4000 [==============================] - 8s 2ms/sample - loss: 0.5559 - mse: 0.5559 - val_loss: 0.5642 - val_mse: 0.5642\n",
      "Epoch 3/100\n",
      "4000/4000 [==============================] - 7s 2ms/sample - loss: 0.5551 - mse: 0.5551 - val_loss: 0.5596 - val_mse: 0.5596\n",
      "Epoch 4/100\n",
      "4000/4000 [==============================] - 8s 2ms/sample - loss: 0.5546 - mse: 0.5546 - val_loss: 0.5576 - val_mse: 0.5576\n",
      "Epoch 5/100\n",
      "4000/4000 [==============================] - 7s 2ms/sample - loss: 0.5542 - mse: 0.5542 - val_loss: 0.5573 - val_mse: 0.5573\n",
      "Epoch 6/100\n",
      "4000/4000 [==============================] - 7s 2ms/sample - loss: 0.5539 - mse: 0.5539 - val_loss: 0.5574 - val_mse: 0.5574\n",
      "Epoch 7/100\n",
      "4000/4000 [==============================] - 8s 2ms/sample - loss: 0.5534 - mse: 0.5534 - val_loss: 0.5564 - val_mse: 0.5564\n",
      "Epoch 8/100\n",
      "4000/4000 [==============================] - 7s 2ms/sample - loss: 0.5533 - mse: 0.5533 - val_loss: 0.5563 - val_mse: 0.5563\n",
      "Epoch 9/100\n",
      "4000/4000 [==============================] - 8s 2ms/sample - loss: 0.5529 - mse: 0.5529 - val_loss: 0.5557 - val_mse: 0.5557\n",
      "Epoch 10/100\n",
      "4000/4000 [==============================] - 8s 2ms/sample - loss: 0.5527 - mse: 0.5527 - val_loss: 0.5557 - val_mse: 0.5557\n",
      "Epoch 11/100\n",
      "4000/4000 [==============================] - 7s 2ms/sample - loss: 0.5524 - mse: 0.5524 - val_loss: 0.5555 - val_mse: 0.5555\n",
      "Epoch 12/100\n",
      "4000/4000 [==============================] - 7s 2ms/sample - loss: 0.5523 - mse: 0.5523 - val_loss: 0.5553 - val_mse: 0.5553\n",
      "Epoch 13/100\n",
      "4000/4000 [==============================] - 7s 2ms/sample - loss: 0.5522 - mse: 0.5522 - val_loss: 0.5551 - val_mse: 0.5551\n",
      "Epoch 14/100\n",
      "4000/4000 [==============================] - 7s 2ms/sample - loss: 0.5520 - mse: 0.5520 - val_loss: 0.5547 - val_mse: 0.5547\n",
      "Epoch 15/100\n",
      "4000/4000 [==============================] - 7s 2ms/sample - loss: 0.5520 - mse: 0.5520 - val_loss: 0.5552 - val_mse: 0.5552\n",
      "Epoch 16/100\n",
      "4000/4000 [==============================] - 7s 2ms/sample - loss: 0.5517 - mse: 0.5517 - val_loss: 0.5548 - val_mse: 0.5548\n",
      "Epoch 17/100\n",
      "4000/4000 [==============================] - 7s 2ms/sample - loss: 0.5515 - mse: 0.5515 - val_loss: 0.5552 - val_mse: 0.5552\n",
      "Epoch 18/100\n",
      "4000/4000 [==============================] - 7s 2ms/sample - loss: 0.5515 - mse: 0.5515 - val_loss: 0.5545 - val_mse: 0.5545\n",
      "Epoch 19/100\n",
      "4000/4000 [==============================] - 7s 2ms/sample - loss: 0.5514 - mse: 0.5514 - val_loss: 0.5542 - val_mse: 0.5542\n",
      "Epoch 20/100\n",
      "4000/4000 [==============================] - 7s 2ms/sample - loss: 0.5513 - mse: 0.5513 - val_loss: 0.5544 - val_mse: 0.5544\n",
      "Epoch 21/100\n",
      "4000/4000 [==============================] - 7s 2ms/sample - loss: 0.5512 - mse: 0.5512 - val_loss: 0.5550 - val_mse: 0.5550\n",
      "Epoch 22/100\n",
      "4000/4000 [==============================] - 7s 2ms/sample - loss: 0.5511 - mse: 0.5511 - val_loss: 0.5541 - val_mse: 0.5541\n",
      "Epoch 23/100\n",
      "4000/4000 [==============================] - 7s 2ms/sample - loss: 0.5510 - mse: 0.5510 - val_loss: 0.5535 - val_mse: 0.5535\n",
      "Epoch 24/100\n",
      "4000/4000 [==============================] - 7s 2ms/sample - loss: 0.5510 - mse: 0.5510 - val_loss: 0.5561 - val_mse: 0.5561\n",
      "Epoch 25/100\n",
      "4000/4000 [==============================] - 7s 2ms/sample - loss: 0.5510 - mse: 0.5510 - val_loss: 0.5534 - val_mse: 0.5534\n",
      "Epoch 26/100\n",
      "4000/4000 [==============================] - 8s 2ms/sample - loss: 0.5508 - mse: 0.5508 - val_loss: 0.5551 - val_mse: 0.5551\n",
      "Epoch 27/100\n",
      "4000/4000 [==============================] - 7s 2ms/sample - loss: 0.5507 - mse: 0.5507 - val_loss: 0.5535 - val_mse: 0.5535\n",
      "Epoch 28/100\n",
      "4000/4000 [==============================] - 7s 2ms/sample - loss: 0.5507 - mse: 0.5507 - val_loss: 0.5539 - val_mse: 0.5539\n",
      "Epoch 29/100\n",
      "4000/4000 [==============================] - 7s 2ms/sample - loss: 0.5506 - mse: 0.5506 - val_loss: 0.5534 - val_mse: 0.5534\n",
      "Epoch 30/100\n",
      "4000/4000 [==============================] - 7s 2ms/sample - loss: 0.5505 - mse: 0.5505 - val_loss: 0.5531 - val_mse: 0.5531\n",
      "Epoch 31/100\n",
      "4000/4000 [==============================] - 7s 2ms/sample - loss: 0.5505 - mse: 0.5505 - val_loss: 0.5526 - val_mse: 0.5526\n",
      "Epoch 32/100\n",
      "4000/4000 [==============================] - 7s 2ms/sample - loss: 0.5507 - mse: 0.5507 - val_loss: 0.5542 - val_mse: 0.5542\n",
      "Epoch 33/100\n",
      "4000/4000 [==============================] - 7s 2ms/sample - loss: 0.5504 - mse: 0.5504 - val_loss: 0.5534 - val_mse: 0.5534\n",
      "Epoch 34/100\n",
      "4000/4000 [==============================] - 7s 2ms/sample - loss: 0.5503 - mse: 0.5503 - val_loss: 0.5527 - val_mse: 0.5527\n",
      "Epoch 35/100\n",
      "4000/4000 [==============================] - 7s 2ms/sample - loss: 0.5503 - mse: 0.5503 - val_loss: 0.5537 - val_mse: 0.5537\n",
      "Epoch 36/100\n",
      "4000/4000 [==============================] - 7s 2ms/sample - loss: 0.5502 - mse: 0.5502 - val_loss: 0.5525 - val_mse: 0.5525\n",
      "Epoch 37/100\n",
      "4000/4000 [==============================] - 7s 2ms/sample - loss: 0.5501 - mse: 0.5501 - val_loss: 0.5537 - val_mse: 0.5537\n",
      "Epoch 38/100\n",
      "4000/4000 [==============================] - 7s 2ms/sample - loss: 0.5501 - mse: 0.5501 - val_loss: 0.5528 - val_mse: 0.5528\n",
      "Epoch 39/100\n",
      "4000/4000 [==============================] - 7s 2ms/sample - loss: 0.5503 - mse: 0.5503 - val_loss: 0.5534 - val_mse: 0.5534\n",
      "Epoch 40/100\n",
      "4000/4000 [==============================] - 7s 2ms/sample - loss: 0.5504 - mse: 0.5504 - val_loss: 0.5530 - val_mse: 0.5530\n",
      "Epoch 41/100\n",
      "4000/4000 [==============================] - 7s 2ms/sample - loss: 0.5501 - mse: 0.5501 - val_loss: 0.5535 - val_mse: 0.5535\n"
     ]
    }
   ],
   "source": [
    "history_simulation = ConvAuto_Simulation.fit(X_train, X_train, batch_size=batch_size, epochs=n_epochs,\n",
    "                        callbacks=[checkpoint_cb, earlystopping_cb], \n",
    "                        validation_data=(X_valid, X_valid))"
   ]
  },
  {
   "cell_type": "code",
   "execution_count": 52,
   "metadata": {},
   "outputs": [
    {
     "data": {
      "text/plain": [
       "[<matplotlib.lines.Line2D at 0x1e3d69e8588>]"
      ]
     },
     "execution_count": 52,
     "metadata": {},
     "output_type": "execute_result"
    },
    {
     "data": {
      "image/png": "[encoded data removed]",
      "text/plain": [
       "<Figure size 432x288 with 1 Axes>"
      ]
     },
     "metadata": {
      "needs_background": "light"
     },
     "output_type": "display_data"
    }
   ],
   "source": [
    "plt.plot(history_simulation.history['loss'])\n",
    "plt.plot(history_simulation.history['val_loss'])"
   ]
  },
  {
   "cell_type": "code",
   "execution_count": 53,
   "metadata": {},
   "outputs": [],
   "source": [
    "X_pred = ConvAuto_Simulation.predict(X_test)"
   ]
  },
  {
   "cell_type": "code",
   "execution_count": 55,
   "metadata": {},
   "outputs": [
    {
     "data": {
      "text/plain": [
       "[<matplotlib.lines.Line2D at 0x1e3ed1fb518>]"
      ]
     },
     "execution_count": 55,
     "metadata": {},
     "output_type": "execute_result"
    },
    {
     "data": {
      "image/png": "[encoded data removed]",
      "text/plain": [
       "<Figure size 432x288 with 1 Axes>"
      ]
     },
     "metadata": {
      "needs_background": "light"
     },
     "output_type": "display_data"
    }
   ],
   "source": [
    "plt.plot(X_pred[500])\n",
    "plt.plot(X_test[500])"
   ]
  },
  {
   "cell_type": "code",
   "execution_count": 56,
   "metadata": {},
   "outputs": [
    {
     "data": {
      "text/plain": [
       "[<matplotlib.lines.Line2D at 0x1e3c45fcc88>]"
      ]
     },
     "execution_count": 56,
     "metadata": {},
     "output_type": "execute_result"
    },
    {
     "data": {
      "image/png": "[encoded data removed]",
      "text/plain": [
       "<Figure size 432x288 with 1 Axes>"
      ]
     },
     "metadata": {
      "needs_background": "light"
     },
     "output_type": "display_data"
    }
   ],
   "source": [
    "plt.plot(X_pred[501])\n",
    "plt.plot(X_test[501])"
   ]
  },
  {
   "cell_type": "code",
   "execution_count": 57,
   "metadata": {},
   "outputs": [
    {
     "data": {
      "text/plain": [
       "[<matplotlib.lines.Line2D at 0x1e3ed2ad828>]"
      ]
     },
     "execution_count": 57,
     "metadata": {},
     "output_type": "execute_result"
    },
    {
     "data": {
      "image/png": "[encoded data removed]",
      "text/plain": [
       "<Figure size 432x288 with 1 Axes>"
      ]
     },
     "metadata": {
      "needs_background": "light"
     },
     "output_type": "display_data"
    }
   ],
   "source": [
    "plt.plot(X_pred[400])\n",
    "plt.plot(X_test[400])"
   ]
  },
  {
   "cell_type": "code",
   "execution_count": null,
   "metadata": {},
   "outputs": [],
   "source": []
  }
 ],
 "metadata": {
  "hide_input": false,
  "kernelspec": {
   "display_name": "Python 3",
   "language": "python",
   "name": "python3"
  },
  "language_info": {
   "codemirror_mode": {
    "name": "ipython",
    "version": 3
   },
   "file_extension": ".py",
   "mimetype": "text/x-python",
   "name": "python",
   "nbconvert_exporter": "python",
   "pygments_lexer": "ipython3",
   "version": "3.6.8"
  },
  "toc": {
   "base_numbering": 1,
   "nav_menu": {},
   "number_sections": true,
   "sideBar": true,
   "skip_h1_title": false,
   "title_cell": "Table of Contents",
   "title_sidebar": "Contents",
   "toc_cell": false,
   "toc_position": {},
   "toc_section_display": true,
   "toc_window_display": false
  },
  "varInspector": {
   "cols": {
    "lenName": 16,
    "lenType": 16,
    "lenVar": 40
   },
   "kernels_config": {
    "python": {
     "delete_cmd_postfix": "",
     "delete_cmd_prefix": "del ",
     "library": "var_list.py",
     "varRefreshCmd": "print(var_dic_list())"
    },
    "r": {
     "delete_cmd_postfix": ") ",
     "delete_cmd_prefix": "rm(",
     "library": "var_list.r",
     "varRefreshCmd": "cat(var_dic_list()) "
    }
   },
   "types_to_exclude": [
    "module",
    "function",
    "builtin_function_or_method",
    "instance",
    "_Feature"
   ],
   "window_display": false
  }
 },
 "nbformat": 4,
 "nbformat_minor": 2
}
